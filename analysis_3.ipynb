{
 "cells": [
  {
   "cell_type": "code",
   "execution_count": 30,
   "metadata": {},
   "outputs": [],
   "source": [
    "import pandas as pd\n",
    "import numpy as np  \n",
    "from tqdm import tqdm\n",
    "import matplotlib.pyplot as plt\n",
    "from tqdm.notebook import tqdm \n",
    "import glob\n",
    "import re\n",
    "import pyhrv.time_domain as td\n",
    "\n",
    "ann_db = pd.read_csv(\"database/ann_db.csv\")\n",
    "ann_db.rename(columns={'Unnamed: 0':'Labels'}, inplace=True)\n",
    "ann_db = ann_db.set_index('Labels')\n",
    "ann_db.index\n",
    "\n",
    "def init_dataframe():\n",
    "    path = \"database/signals\"\n",
    "    files = glob.glob(path + \"/*.csv\")\n",
    "\n",
    "    data_frame = pd.DataFrame()\n",
    "\n",
    "    for filename in files:\n",
    "        name = re.sub(\"[^0-9]\", \"\", filename)\n",
    "        df = pd.read_csv(filename, index_col=None)\n",
    "        data_frame = data_frame.append(\n",
    "            {\n",
    "                'tag': name,\n",
    "                'Fhr': list(df['FHR']), \n",
    "                'UC': df['UC'],\n",
    "                'Apgar1': ann_db[name]['Apgar1'],\n",
    "                'Apgar5': ann_db[name]['Apgar5'],\n",
    "                'labels': ann_db[name]\n",
    "            },\n",
    "            ignore_index=True\n",
    "        )\n",
    "    return data_frame\n",
    "\n",
    "df = init_dataframe()"
   ]
  },
  {
   "cell_type": "code",
   "execution_count": 31,
   "metadata": {},
   "outputs": [
    {
     "data": {
      "text/plain": [
       "((484, 7), (68, 7), (533, 7), (19, 7))"
      ]
     },
     "execution_count": 31,
     "metadata": {},
     "output_type": "execute_result"
    }
   ],
   "source": [
    "'''\n",
    "* init in dataframe a separate column that indicates the healthy state according to Apgar 1\n",
    "* healthy_thresh >= 7\n",
    "'''\n",
    "healthy_thresh = 7\n",
    "for i, signal in df.iterrows():\n",
    "    df.at[i,'Healthy Birth (1)'] = 1 if(df.iloc[i]['Apgar1'] >= healthy_thresh) else 0\n",
    "\n",
    "\n",
    "# keep in a dataframe named 'df1h' only those whose Apgar1 are greater than 7 (healthy state)\n",
    "df1h = df[df['Healthy Birth (1)'] == 1].reset_index().drop('index', axis=1)\n",
    "# keep in a dataframe named 'df1u' only those whose Apgar1 are less than 7 (unhealthy state)\n",
    "df1u = df[df['Healthy Birth (1)'] == 0].reset_index().drop('index', axis=1)\n",
    "\n",
    "\n",
    "'''\n",
    "* init in dataframe a separate column that indicates the healthy state according to Apgar 1\n",
    "* healthy_thresh >= 7\n",
    "'''\n",
    "healthy_thresh = 7\n",
    "for i, signal in df.iterrows():\n",
    "    df.at[i,'Healthy Birth (2)'] = 1 if(df.iloc[i]['Apgar5'] >= healthy_thresh) else 0\n",
    "\n",
    "\n",
    "# keep in a dataframe named 'df1h' only those whose Apgar5 are greater than 7 (healthy state)\n",
    "df5h = df[df['Healthy Birth (2)'] == 1].reset_index().drop(['index','Healthy Birth (2)'], axis=1)\n",
    "# keep in a dataframe named 'df1u' only those whose Apgar5 are less than 7 (unhealthy state)\n",
    "df5u = df[df['Healthy Birth (2)'] == 0].reset_index().drop(['index','Healthy Birth (2)'], axis=1)\n",
    "\n",
    "df1h.shape, df1u.shape, df5h.shape, df5u.shape\n"
   ]
  },
  {
   "cell_type": "code",
   "execution_count": 33,
   "metadata": {},
   "outputs": [
    {
     "name": "stdout",
     "output_type": "stream",
     "text": [
      "13  underweeked records dropped\n",
      "74  diseased records dropped\n",
      "0  underage records dropped\n",
      "35  casarean records dropped\n",
      "122 total records dropped\n",
      "5  underweeked records dropped\n",
      "12  diseased records dropped\n",
      "0  underage records dropped\n",
      "11  casarean records dropped\n",
      "28 total records dropped\n",
      "18  underweeked records dropped\n",
      "82  diseased records dropped\n",
      "0  underage records dropped\n",
      "43  casarean records dropped\n",
      "143 total records dropped\n",
      "0  underweeked records dropped\n",
      "4  diseased records dropped\n",
      "0  underage records dropped\n",
      "3  casarean records dropped\n",
      "7 total records dropped\n"
     ]
    }
   ],
   "source": [
    "def drop_restictions(df):\n",
    "    records_to_drop = list()\n",
    "    cc = ca = cd = cw = 0\n",
    "    \n",
    "    for i in range(df.shape[0]):\n",
    "        if (df.iloc[i]['labels']['Deliv. type'] != 1.0):\n",
    "            records_to_drop.append(i); cc+=1\n",
    "\n",
    "        if (df.iloc[i]['labels']['Age'] < 18):\n",
    "            records_to_drop.append(i); ca+=1\n",
    "\n",
    "        if (df.iloc[i]['labels']['Hypertension'] == 1 or\n",
    "            df.iloc[i]['labels']['Preeclampsia'] == 1 or \n",
    "            df.iloc[i]['labels']['Diabetes'] == 1):\n",
    "            records_to_drop.append(i); cd+=1\n",
    "\n",
    "        if (df.iloc[i]['labels']['Gest. weeks'] < 37.5):\n",
    "            records_to_drop.append(i); cw+=1\n",
    "            \n",
    "    print(cw,' underweeked records dropped')\n",
    "    print(cd,' diseased records dropped')\n",
    "    print(ca,' underage records dropped')\n",
    "    print(cc,' casarean records dropped')\n",
    "    \n",
    "    print(len(records_to_drop), 'total records dropped')\n",
    "    return df.drop(records_to_drop).reset_index().drop('index', axis=1)\n",
    "\n",
    "df1h_r = drop_restictions(df1h)\n",
    "df1u_r = drop_restictions(df1u)\n",
    "df5h_r = drop_restictions(df5h)\n",
    "df5u_r = drop_restictions(df5u)\n"
   ]
  },
  {
   "cell_type": "code",
   "execution_count": 34,
   "metadata": {},
   "outputs": [],
   "source": [
    "SEGMENT_SIZE = 25 # megalo SEGMENT_SIZE -> ligotero strict\n",
    "NOISY_THRESH = 0.20 # mikro NOISY_THRESH -> eimaste  strict\n",
    "NOISE_RETRV_THRESH = 0.25 # mikro NOISE_RETRV_THRESH -> poly smoothing\n",
    "N_PREV_VALS = 10"
   ]
  },
  {
   "cell_type": "code",
   "execution_count": 35,
   "metadata": {},
   "outputs": [],
   "source": [
    "def drop_noisy_records(df, thresh=0.2):\n",
    "    noisy_records = list()\n",
    "    \n",
    "    for i in range(df.shape[0]):\n",
    "        record = df.iloc[i]\n",
    "        perc_zeros = record['Fhr'].count(0) / len(record['Fhr'])\n",
    "        if( perc_zeros > thresh ):\n",
    "            noisy_records.append(i)    \n",
    "    return  df.drop(noisy_records).reset_index().drop('index', axis=1)\n"
   ]
  },
  {
   "cell_type": "code",
   "execution_count": 36,
   "metadata": {},
   "outputs": [],
   "source": [
    "df1h_r_n = drop_noisy_records(df1h_r,thresh=NOISY_THRESH)\n",
    "df1u_r_n = drop_noisy_records(df1u_r,thresh=NOISY_THRESH)\n",
    "df5h_r_n = drop_noisy_records(df5h_r,thresh=NOISY_THRESH)\n",
    "df5u_r_n = drop_noisy_records(df5u_r,thresh=NOISY_THRESH)\n",
    "\n",
    "df1h_r_n.shape, df1u_r_n.shape, df5h_r_n.shape, df5u_r_n.shape"
   ]
  },
  {
   "cell_type": "code",
   "execution_count": 40,
   "metadata": {},
   "outputs": [
    {
     "data": {
      "text/plain": [
       "'\\n* a fhr pca vector to another column\\n* need to cut all signals to have all the shame shape\\n'"
      ]
     },
     "execution_count": 40,
     "metadata": {},
     "output_type": "execute_result"
    }
   ],
   "source": [
    "'''\n",
    "* a fhr pca vector to another column\n",
    "* need to cut all signals to have all the shame shape\n",
    "'''"
   ]
  },
  {
   "cell_type": "code",
   "execution_count": 48,
   "metadata": {},
   "outputs": [],
   "source": [
    "def drop_zero_segments(df_input, segment_size = 20):\n",
    "    df = df_input.copy()\n",
    "    \n",
    "    for row_i , fhr in df_input['Fhr'].iteritems():\n",
    "        fhr_list = list(fhr) # get fhr of record row_i as list\n",
    "        fhr_list_out = list() # set an empty list\n",
    "        count = 0\n",
    "        for j, value in enumerate(fhr_list):     \n",
    "            if(value == 0):\n",
    "                count += 1                \n",
    "            else:\n",
    "                if(count >= segment_size):\n",
    "                    fhr_list_out = fhr_list_out[:-count]\n",
    "                count = 0    \n",
    "            fhr_list_out.append(value)\n",
    "        df.at[row_i, 'Fhr'] = fhr_list_out\n",
    "        \n",
    "    return df\n",
    "\n",
    "df1h_r_n_zs = drop_zero_segments(df1h_r_n, segment_size=SEGMENT_SIZE)\n",
    "df1u_r_n_zs = drop_zero_segments(df1u_r_n, segment_size=SEGMENT_SIZE)\n",
    "df5h_r_n_zs = drop_zero_segments(df5h_r_n, segment_size=SEGMENT_SIZE)\n",
    "df5u_r_n_zs = drop_zero_segments(df5u_r_n, segment_size=SEGMENT_SIZE)\n",
    "\n",
    "\n",
    "df1h_r_n_zs = df1h_r_n_zs.set_index('tag')\n",
    "df1u_r_n_zs = df1u_r_n_zs.set_index('tag')\n",
    "df5h_r_n_zs = df5h_r_n_zs.set_index('tag')\n",
    "df5u_r_n_zs = df5u_r_n_zs.set_index('tag')\n",
    "\n",
    "fig,ax = plt.subplots(2,1, figsize=(35,8))\n",
    "ax[0].plot(df1h_r_n.iloc[3]['Fhr'])\n",
    "ax[1].plot(df1h_r_n_zs.loc['1011']['Fhr'])\n"
   ]
  },
  {
   "cell_type": "code",
   "execution_count": 58,
   "metadata": {},
   "outputs": [],
   "source": [
    "from statistics import median \n",
    "\n",
    "def get_median(lst, index, n_prev_vals):\n",
    "    medians = list()\n",
    "    for i in range(index, 0, -1):\n",
    "        if(lst[i] != 0):\n",
    "            medians.append(lst[i])\n",
    "        if(len(medians)==n_prev_vals):\n",
    "            return median(medians)\n",
    "\n",
    "    return median(lst)\n",
    "            \n",
    "def noise_retrieval(df_input, thres = 0.25, n_prev_vals=3):\n",
    "    df = df_input.copy()\n",
    "    for row_i , fhr in df['Fhr'].iteritems():\n",
    "        fhr_new = list()\n",
    "        for i in range(len(fhr)):\n",
    "            prev_values_med = get_median(fhr, i, n_prev_vals)\n",
    "            if(fhr[i] > prev_values_med + prev_values_med * thres or \n",
    "            fhr[i] < prev_values_med - prev_values_med * thres ):\n",
    "                fhr_new.append(prev_values_med)\n",
    "            else: \n",
    "                fhr_new.append(fhr[i])\n",
    "        df.at[row_i,'Fhr'] = fhr_new\n",
    "        \n",
    "    return df \n",
    "\n",
    "df1h_r_n_zs_sm = noise_retrieval(df1h_r_n_zs, thres=NOISE_RETRV_THRESH, n_prev_vals=N_PREV_VALS)\n",
    "df1u_r_n_zs_sm = noise_retrieval(df1u_r_n_zs, thres=NOISE_RETRV_THRESH, n_prev_vals=N_PREV_VALS)\n",
    "df5h_r_n_zs_sm = noise_retrieval(df5h_r_n_zs, thres=NOISE_RETRV_THRESH, n_prev_vals=N_PREV_VALS)\n",
    "df5u_r_n_zs_sm = noise_retrieval(df5u_r_n_zs, thres=NOISE_RETRV_THRESH, n_prev_vals=N_PREV_VALS)\n"
   ]
  },
  {
   "cell_type": "code",
   "execution_count": 60,
   "metadata": {},
   "outputs": [
    {
     "data": {
      "application/vnd.jupyter.widget-view+json": {
       "model_id": "489ed7d7e7714e459448c58e405ca4ac",
       "version_major": 2,
       "version_minor": 0
      },
      "text/plain": [
       "  0%|          | 0/207 [00:00<?, ?it/s]"
      ]
     },
     "metadata": {},
     "output_type": "display_data"
    },
    {
     "data": {
      "application/vnd.jupyter.widget-view+json": {
       "model_id": "f121ce7306654667a6b8b5f0f0e7b5f8",
       "version_major": 2,
       "version_minor": 0
      },
      "text/plain": [
       "  0%|          | 0/27 [00:00<?, ?it/s]"
      ]
     },
     "metadata": {},
     "output_type": "display_data"
    },
    {
     "data": {
      "application/vnd.jupyter.widget-view+json": {
       "model_id": "6434b7dff25b4ec6b857bc1b8b30b85c",
       "version_major": 2,
       "version_minor": 0
      },
      "text/plain": [
       "  0%|          | 0/227 [00:00<?, ?it/s]"
      ]
     },
     "metadata": {},
     "output_type": "display_data"
    },
    {
     "data": {
      "application/vnd.jupyter.widget-view+json": {
       "model_id": "9e74fdd982404a818a3df7507a00142d",
       "version_major": 2,
       "version_minor": 0
      },
      "text/plain": [
       "  0%|          | 0/7 [00:00<?, ?it/s]"
      ]
     },
     "metadata": {},
     "output_type": "display_data"
    },
    {
     "data": {
      "text/html": [
       "<div>\n",
       "<style scoped>\n",
       "    .dataframe tbody tr th:only-of-type {\n",
       "        vertical-align: middle;\n",
       "    }\n",
       "\n",
       "    .dataframe tbody tr th {\n",
       "        vertical-align: top;\n",
       "    }\n",
       "\n",
       "    .dataframe thead th {\n",
       "        text-align: right;\n",
       "    }\n",
       "</style>\n",
       "<table border=\"1\" class=\"dataframe\">\n",
       "  <thead>\n",
       "    <tr style=\"text-align: right;\">\n",
       "      <th></th>\n",
       "      <th>Fhr</th>\n",
       "      <th>UC</th>\n",
       "      <th>Apgar1</th>\n",
       "      <th>Apgar5</th>\n",
       "      <th>labels</th>\n",
       "      <th>Healthy Birth (1)</th>\n",
       "      <th>HRV_res</th>\n",
       "    </tr>\n",
       "    <tr>\n",
       "      <th>tag</th>\n",
       "      <th></th>\n",
       "      <th></th>\n",
       "      <th></th>\n",
       "      <th></th>\n",
       "      <th></th>\n",
       "      <th></th>\n",
       "      <th></th>\n",
       "    </tr>\n",
       "  </thead>\n",
       "  <tbody>\n",
       "    <tr>\n",
       "      <th>1002</th>\n",
       "      <td>[146.25, 146.25, 150.25, 148.5, 148.5, 143.5, ...</td>\n",
       "      <td>0        26.0\n",
       "1        26.0\n",
       "2        25.5\n",
       "3   ...</td>\n",
       "      <td>8.0</td>\n",
       "      <td>8.0</td>\n",
       "      <td>Labels\n",
       "pH                   7.00\n",
       "BDecf        ...</td>\n",
       "      <td>1.0</td>\n",
       "      <td>{'sdnn': (24.151511535297974,), 'rmssd': (2.78...</td>\n",
       "    </tr>\n",
       "    <tr>\n",
       "      <th>1004</th>\n",
       "      <td>[153.75, 153.75, 153.75, 154.75, 154.75, 153.7...</td>\n",
       "      <td>0        46.0\n",
       "1        43.0\n",
       "2        43.0\n",
       "3   ...</td>\n",
       "      <td>8.0</td>\n",
       "      <td>9.0</td>\n",
       "      <td>Labels\n",
       "pH                   7.30\n",
       "BDecf        ...</td>\n",
       "      <td>1.0</td>\n",
       "      <td>{'sdnn': (22.21615385507634,), 'rmssd': (1.894...</td>\n",
       "    </tr>\n",
       "    <tr>\n",
       "      <th>1008</th>\n",
       "      <td>[124.0, 124.0, 124.0, 124.0, 124.0, 124.0, 124...</td>\n",
       "      <td>0        18.0\n",
       "1        19.0\n",
       "2        19.5\n",
       "3   ...</td>\n",
       "      <td>8.0</td>\n",
       "      <td>9.0</td>\n",
       "      <td>Labels\n",
       "pH                   7.36\n",
       "BDecf        ...</td>\n",
       "      <td>1.0</td>\n",
       "      <td>{'sdnn': (14.888796067991317,), 'rmssd': (2.23...</td>\n",
       "    </tr>\n",
       "    <tr>\n",
       "      <th>1011</th>\n",
       "      <td>[149.5, 149.75, 149.75, 150.0, 150.0, 150.25, ...</td>\n",
       "      <td>0        12.0\n",
       "1        11.5\n",
       "2        11.5\n",
       "3   ...</td>\n",
       "      <td>8.0</td>\n",
       "      <td>9.0</td>\n",
       "      <td>Labels\n",
       "pH                   7.37\n",
       "BDecf        ...</td>\n",
       "      <td>1.0</td>\n",
       "      <td>{'sdnn': (22.151290463333712,), 'rmssd': (2.80...</td>\n",
       "    </tr>\n",
       "    <tr>\n",
       "      <th>1014</th>\n",
       "      <td>[145.0, 145.0, 146.0, 145.5, 145.5, 146.5, 146...</td>\n",
       "      <td>0        7.5\n",
       "1        7.5\n",
       "2        7.5\n",
       "3      ...</td>\n",
       "      <td>9.0</td>\n",
       "      <td>9.0</td>\n",
       "      <td>Labels\n",
       "pH                   7.14\n",
       "BDecf        ...</td>\n",
       "      <td>1.0</td>\n",
       "      <td>{'sdnn': (23.719983988141312,), 'rmssd': (2.86...</td>\n",
       "    </tr>\n",
       "  </tbody>\n",
       "</table>\n",
       "</div>"
      ],
      "text/plain": [
       "                                                    Fhr  \\\n",
       "tag                                                       \n",
       "1002  [146.25, 146.25, 150.25, 148.5, 148.5, 143.5, ...   \n",
       "1004  [153.75, 153.75, 153.75, 154.75, 154.75, 153.7...   \n",
       "1008  [124.0, 124.0, 124.0, 124.0, 124.0, 124.0, 124...   \n",
       "1011  [149.5, 149.75, 149.75, 150.0, 150.0, 150.25, ...   \n",
       "1014  [145.0, 145.0, 146.0, 145.5, 145.5, 146.5, 146...   \n",
       "\n",
       "                                                     UC  Apgar1  Apgar5  \\\n",
       "tag                                                                       \n",
       "1002  0        26.0\n",
       "1        26.0\n",
       "2        25.5\n",
       "3   ...     8.0     8.0   \n",
       "1004  0        46.0\n",
       "1        43.0\n",
       "2        43.0\n",
       "3   ...     8.0     9.0   \n",
       "1008  0        18.0\n",
       "1        19.0\n",
       "2        19.5\n",
       "3   ...     8.0     9.0   \n",
       "1011  0        12.0\n",
       "1        11.5\n",
       "2        11.5\n",
       "3   ...     8.0     9.0   \n",
       "1014  0        7.5\n",
       "1        7.5\n",
       "2        7.5\n",
       "3      ...     9.0     9.0   \n",
       "\n",
       "                                                 labels  Healthy Birth (1)  \\\n",
       "tag                                                                          \n",
       "1002  Labels\n",
       "pH                   7.00\n",
       "BDecf        ...                1.0   \n",
       "1004  Labels\n",
       "pH                   7.30\n",
       "BDecf        ...                1.0   \n",
       "1008  Labels\n",
       "pH                   7.36\n",
       "BDecf        ...                1.0   \n",
       "1011  Labels\n",
       "pH                   7.37\n",
       "BDecf        ...                1.0   \n",
       "1014  Labels\n",
       "pH                   7.14\n",
       "BDecf        ...                1.0   \n",
       "\n",
       "                                                HRV_res  \n",
       "tag                                                      \n",
       "1002  {'sdnn': (24.151511535297974,), 'rmssd': (2.78...  \n",
       "1004  {'sdnn': (22.21615385507634,), 'rmssd': (1.894...  \n",
       "1008  {'sdnn': (14.888796067991317,), 'rmssd': (2.23...  \n",
       "1011  {'sdnn': (22.151290463333712,), 'rmssd': (2.80...  \n",
       "1014  {'sdnn': (23.719983988141312,), 'rmssd': (2.86...  "
      ]
     },
     "execution_count": 60,
     "metadata": {},
     "output_type": "execute_result"
    }
   ],
   "source": [
    "def compute_hrv(df_input):\n",
    "    df = df_input.copy()\n",
    "    \n",
    "    methods_names = ['sdnn', 'rmssd', 'sdann', 'nn20', 'nn50']\n",
    "    df['HRV_res'] = [dict(zip(methods_names, [None]*len(methods_names))) for i in range(df.shape[0])]\n",
    "    \n",
    "    for row_i, fhr in tqdm(df['Fhr'].iteritems(), total=df.shape[0]):\n",
    "        \n",
    "        df.loc[row_i]['HRV_res']['sdnn'] = td.sdnn(np.array(df.loc[row_i]['Fhr']))\n",
    "        df.loc[row_i]['HRV_res']['rmssd'] = td.rmssd(np.array(df.loc[row_i]['Fhr']))\n",
    "        df.loc[row_i]['HRV_res']['sdann'] = td.sdann(np.array(df.loc[row_i]['Fhr']))\n",
    "        df.loc[row_i]['HRV_res']['nn20'] = td.nn20(np.array(df.loc[row_i]['Fhr']))\n",
    "        df.loc[row_i]['HRV_res']['nn50'] = td.nn50(np.array(df.loc[row_i]['Fhr']))\n",
    "        \n",
    "    return df \n",
    "\n",
    "df1h_fin = compute_hrv(df1h_r_n_zs_sm)\n",
    "df1u_fin = compute_hrv(df1u_r_n_zs_sm)\n",
    "df5h_fin = compute_hrv(df5h_r_n_zs_sm)\n",
    "df5u_fin = compute_hrv(df5u_r_n_zs_sm)\n",
    "\n",
    "df1h_fin.head()\n"
   ]
  },
  {
   "cell_type": "code",
   "execution_count": 65,
   "metadata": {},
   "outputs": [
    {
     "data": {
      "text/plain": [
       "<matplotlib.collections.PathCollection at 0x244af3bcca0>"
      ]
     },
     "execution_count": 65,
     "metadata": {},
     "output_type": "execute_result"
    },
    {
     "data": {
      "image/png": "[encoded data removed]",
      "text/plain": [
       "<Figure size 2520x1800 with 4 Axes>"
      ]
     },
     "metadata": {
      "needs_background": "light"
     },
     "output_type": "display_data"
    }
   ],
   "source": [
    "fig,ax = plt.subplots(2,2, figsize=(35,25))\n",
    "ax[0][0].scatter([hrv_val['sdnn'][0] for _, hrv_val in df1h_fin['HRV_res'].iteritems()] , [hrv_val['pH'] for _, hrv_val in df1h_fin['labels'].iteritems()])\n",
    "ax[0][1].scatter([hrv_val['rmssd'][0] for _, hrv_val in df1h_fin['HRV_res'].iteritems()] , [hrv_val['pH'] for _, hrv_val in df1h_fin['labels'].iteritems()])\n",
    "ax[1][0].scatter([hrv_val['sdann'][0] for _, hrv_val in df1h_fin['HRV_res'].iteritems()] , [hrv_val['pH'] for _, hrv_val in df1h_fin['labels'].iteritems()])\n",
    "ax[1][1].scatter([hrv_val['nn20'][0] for _, hrv_val in df1h_fin['HRV_res'].iteritems()] , [hrv_val['pH'] for _, hrv_val in df1h_fin['labels'].iteritems()])"
   ]
  },
  {
   "cell_type": "code",
   "execution_count": 79,
   "metadata": {},
   "outputs": [
    {
     "name": "stdout",
     "output_type": "stream",
     "text": [
      "apgar1 >= 7\n",
      " {'sdnn': [-0.3953703316085621, -0.3582262814184455, -0.25066581136233856], 'rmssd': [-0.2735508802907624, -0.25772785919306246, -0.17561388306020412], 'sdann': [-0.2508622609178826, -0.20083435929606525, -0.1381356012015779], 'nn20': [-0.2752460448219036, -0.3023473177269474, -0.2095377362690176], 'nn50': [-0.17676150719636124, -0.2278808921400344, -0.16637813937815818]}\n",
      "\n",
      "apgar1 < 7\n",
      " {'sdnn': [-0.23379695543070575, -0.12616816103319023, -0.08153326507837144], 'rmssd': [0.1525702445327728, 0.15158553328016788, 0.11065228832064694], 'sdann': [-0.20982889411586025, -0.07502718313866895, -0.04659043718764082], 'nn20': [0.013347783246985942, 0.13800027801321013, 0.09928795479301851], 'nn50': [-0.03526601449881675, -0.12470836055604055, -0.09731697114538015]}\n",
      "\n",
      "apgar5 >= 7\n",
      " {'sdnn': [-0.3983298857060569, -0.3601612742578198, -0.2529682425473181], 'rmssd': [-0.2490442988328288, -0.22835418806166619, -0.15472814835418486], 'sdann': [-0.2663072295879088, -0.20631669785501547, -0.14094284481418065], 'nn20': [-0.2603903075948463, -0.27425919037413127, -0.19057450312635357], 'nn50': [-0.1594955114192377, -0.20379939360635874, -0.14794385256761083]}\n",
      "\n",
      "apgar5 < 7\n",
      " {'sdnn': [-0.4197797133897097, -0.42857142857142866, -0.33333333333333337], 'rmssd': [0.489904893788249, 0.39285714285714296, 0.33333333333333337], 'sdann': [-0.6782851515553634, -0.5357142857142858, -0.4285714285714286], 'nn20': [0.48532791433819417, 0.39285714285714296, 0.33333333333333337], 'nn50': [0.13762142455134402, -0.054554472558998104, -0.05006261743217588]}\n",
      "\n"
     ]
    }
   ],
   "source": [
    "from scipy.stats import pearsonr, spearmanr, kendalltau\n",
    "\n",
    "def get_correlation(df, column_name):\n",
    "    results = {'sdnn': [], 'rmssd': [], 'sdann': [], 'nn20': [], 'nn50': []}\n",
    "\n",
    "    for method_name in results.keys():\n",
    "        results[method_name].append( \n",
    "            pearsonr(\n",
    "                [hrv_val[method_name][0] for _, hrv_val in df['HRV_res'].iteritems()] ,\n",
    "                [hrv_val[column_name] for _, hrv_val in df['labels'].iteritems()]\n",
    "            )[0]\n",
    "        )\n",
    "        results[method_name].append( \n",
    "            spearmanr(\n",
    "                [hrv_val[method_name][0] for _, hrv_val in df['HRV_res'].iteritems()] ,\n",
    "                [hrv_val[column_name] for _, hrv_val in df['labels'].iteritems()]\n",
    "            )[0]\n",
    "        )\n",
    "        results[method_name].append( \n",
    "            kendalltau(\n",
    "                [hrv_val[method_name][0] for _, hrv_val in df['HRV_res'].iteritems()] ,\n",
    "                [hrv_val[column_name] for _, hrv_val in df['labels'].iteritems()]\n",
    "            )[0]\n",
    "        )\n",
    "    return results\n",
    "\n",
    "print('apgar1 >= 7\\n', get_correlation(df1h_fin, 'pH')); print()\n",
    "print('apgar1 < 7\\n', get_correlation(df1u_fin, 'pH')); print()\n",
    "print('apgar5 >= 7\\n', get_correlation(df5h_fin, 'pH')); print()\n",
    "print('apgar5 < 7\\n', get_correlation(df5u_fin, 'pH')); print()\n"
   ]
  },
  {
   "cell_type": "code",
   "execution_count": 70,
   "metadata": {},
   "outputs": [
    {
     "data": {
      "text/plain": [
       "<matplotlib.collections.PathCollection at 0x244af527be0>"
      ]
     },
     "execution_count": 70,
     "metadata": {},
     "output_type": "execute_result"
    },
    {
     "data": {
      "image/png": "[encoded data removed]",
      "text/plain": [
       "<Figure size 2520x1800 with 4 Axes>"
      ]
     },
     "metadata": {
      "needs_background": "light"
     },
     "output_type": "display_data"
    }
   ],
   "source": [
    "fig,ax = plt.subplots(2,2, figsize=(35,25))\n",
    "ax[0][0].scatter([hrv_val['sdnn'][0] for _, hrv_val in df5u_fin['HRV_res'].iteritems()] , [hrv_val['pH'] for _, hrv_val in df5u_fin['labels'].iteritems()])\n",
    "ax[0][1].scatter([hrv_val['rmssd'][0] for _, hrv_val in df5u_fin['HRV_res'].iteritems()] , [hrv_val['pH'] for _, hrv_val in df5u_fin['labels'].iteritems()])\n",
    "ax[1][0].scatter([hrv_val['sdann'][0] for _, hrv_val in df5u_fin['HRV_res'].iteritems()] , [hrv_val['pH'] for _, hrv_val in df5u_fin['labels'].iteritems()])\n",
    "ax[1][1].scatter([hrv_val['nn20'][0] for _, hrv_val in df5u_fin['HRV_res'].iteritems()] , [hrv_val['pH'] for _, hrv_val in df5u_fin['labels'].iteritems()])"
   ]
  },
  {
   "cell_type": "code",
   "execution_count": null,
   "metadata": {},
   "outputs": [],
   "source": []
  }
 ],
 "metadata": {
  "interpreter": {
   "hash": "5b77e75eb5bc8076e0ca1cf7b28e086480d3386ae6a92cfa4f412c29696afed6"
  },
  "kernelspec": {
   "display_name": "Python 3.10.0 64-bit",
   "language": "python",
   "name": "python3"
  },
  "language_info": {
   "codemirror_mode": {
    "name": "ipython",
    "version": 3
   },
   "file_extension": ".py",
   "mimetype": "text/x-python",
   "name": "python",
   "nbconvert_exporter": "python",
   "pygments_lexer": "ipython3",
   "version": "3.10.0"
  },
  "orig_nbformat": 4
 },
 "nbformat": 4,
 "nbformat_minor": 2
}
